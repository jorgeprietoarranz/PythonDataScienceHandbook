{
  "nbformat": 4,
  "nbformat_minor": 0,
  "metadata": {
    "colab": {
      "provenance": [],
      "authorship_tag": "ABX9TyNNg0Ol59UteF8npaAhibzI",
      "include_colab_link": true
    },
    "kernelspec": {
      "name": "python3",
      "display_name": "Python 3"
    },
    "language_info": {
      "name": "python"
    }
  },
  "cells": [
    {
      "cell_type": "markdown",
      "metadata": {
        "id": "view-in-github",
        "colab_type": "text"
      },
      "source": [
        "<a href=\"https://colab.research.google.com/github/jorgeprietoarranz/PythonDataScienceHandbook/blob/master/MyFirstColabNotebook.ipynb\" target=\"_parent\"><img src=\"https://colab.research.google.com/assets/colab-badge.svg\" alt=\"Open In Colab\"/></a>"
      ]
    },
    {
      "cell_type": "code",
      "execution_count": 1,
      "metadata": {
        "colab": {
          "base_uri": "https://localhost:8080/"
        },
        "id": "X_0HgcIv-Muy",
        "outputId": "93249517-46c1-4369-e909-4da265b9298a"
      },
      "outputs": [
        {
          "output_type": "stream",
          "name": "stdout",
          "text": [
            "Thu May 18 17:51:45 2023\n"
          ]
        }
      ],
      "source": [
        "import time\n",
        "print(time.ctime())"
      ]
    },
    {
      "cell_type": "code",
      "source": [
        "time.sleep(5)\n",
        "print(time.ctime())"
      ],
      "metadata": {
        "colab": {
          "base_uri": "https://localhost:8080/"
        },
        "id": "4J52hLIF-rZx",
        "outputId": "f74c4b5b-ef70-4241-e2a7-6e675f9e029d"
      },
      "execution_count": 2,
      "outputs": [
        {
          "output_type": "stream",
          "name": "stdout",
          "text": [
            "Thu May 18 17:51:50 2023\n"
          ]
        }
      ]
    },
    {
      "cell_type": "markdown",
      "source": [
        "This is **bold**.\n",
        "This is *italic*.\n",
        "This is ~strikethrough~."
      ],
      "metadata": {
        "id": "_BHesB85Aejd"
      }
    },
    {
      "cell_type": "markdown",
      "source": [
        "$\\sqrt{3x-1}+(1+x)^2$"
      ],
      "metadata": {
        "id": "ay2_ucS-AxTz"
      }
    },
    {
      "cell_type": "markdown",
      "source": [
        "$e^x = \\sum_{i = 0}^\\infty \\frac{1}{i!}x^i$"
      ],
      "metadata": {
        "id": "lUjWglTYBE4R"
      }
    },
    {
      "cell_type": "markdown",
      "source": [
        "Constraints are\n",
        "   - $3x_1 + 6x_2 + x_3 =< 28$\n",
        "   - $7x_1 + 3x_2 + 2x_3 =< 37$\n",
        "   - $4x_1 + 5x_2 + 2x_3 =< 19$\n",
        "   - $x_1,x_2,x_3 >=0 $\n",
        "\n",
        "The trial vector is calculated as follows:\n",
        "- $u_i(t) = x_i(t) + \\beta(\\hat{x}(t) − x_i(t)) + \\beta \\sum_{k = 1}^{n_v}(x_{i1,k}(t) − x_{i2,k}(t))$\n",
        "$f(x_1, x_2) = 20 + e - 20exp(-0.2 \\sqrt {\\frac {1}{n} (x_1^2 + x_2^2)}) - exp (\\frac {1}{n}(cos(2\\pi x_1) + cos(2\\pi x_2))$\n",
        "\n",
        "$x ∈ [-5, 5]$\n",
        ">$A_{m,n} =\n",
        "   \\begin{pmatrix}\n",
        "   a_{1,1} > a_{1,2} > \\cdots > a_{1,n} \\\\\n",
        "   a_{2,1} > a_{2,2} > \\cdots > a_{2,n} \\\\\n",
        "   \\vdots > \\vdots > \\ddots > \\vdots \\\\\n",
        "   a_{m,1} > a_{m,2} > \\cdots > a_{m,n}\n",
        "   \\end{pmatrix}$"
      ],
      "metadata": {
        "id": "-ypJZgzhBg7U"
      }
    }
  ]
}